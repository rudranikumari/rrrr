{
 "cells": [
  {
   "cell_type": "markdown",
   "metadata": {},
   "source": [
    "# Functions"
   ]
  },
  {
   "cell_type": "code",
   "execution_count": 5,
   "metadata": {
    "collapsed": true
   },
   "outputs": [],
   "source": [
    "import os, sys, json"
   ]
  },
  {
   "cell_type": "markdown",
   "metadata": {},
   "source": [
    "Now we are good to get started with functions"
   ]
  },
  {
   "cell_type": "code",
   "execution_count": 1,
   "metadata": {
    "collapsed": true
   },
   "outputs": [],
   "source": [
    "def process(file_path):\n",
    "    if os.path.exists(file_path):\n",
    "        rp = open(file_path, 'r')\n",
    "        for line in rp:\n",
    "            print(line)\n",
    "        rp.close()"
   ]
  },
  {
   "cell_type": "code",
   "execution_count": 8,
   "metadata": {},
   "outputs": [
    {
     "name": "stdout",
     "output_type": "stream",
     "text": [
      "Enter first number : 20\n",
      "Enter second number : 5\n"
     ]
    },
    {
     "data": {
      "text/plain": [
       "25"
      ]
     },
     "execution_count": 8,
     "metadata": {},
     "output_type": "execute_result"
    }
   ],
   "source": [
    "def add(n1, n2):\n",
    "    return n1+n2 if n1 > n2 else n2-n1\n",
    "\n",
    "# add(10, 30)\n",
    "n1 = input('Enter first number : ')\n",
    "n2 = input('Enter second number : ')\n",
    "n1 = int(n1)\n",
    "n2 = int(n2)\n",
    "add(n1, n2)"
   ]
  },
  {
   "cell_type": "code",
   "execution_count": 14,
   "metadata": {},
   "outputs": [
    {
     "name": "stdout",
     "output_type": "stream",
     "text": [
      "Hello world!\n",
      "None None\n"
     ]
    }
   ],
   "source": [
    "def new(a,b):\n",
    "    return\n",
    "\n",
    "def third():\n",
    "    print('Hello world!')\n",
    "    \n",
    "print(new(1,2), third())"
   ]
  },
  {
   "cell_type": "markdown",
   "metadata": {},
   "source": [
    "# Function Arguments"
   ]
  },
  {
   "cell_type": "markdown",
   "metadata": {},
   "source": [
    "#### This is fourth level heading"
   ]
  },
  {
   "cell_type": "code",
   "execution_count": 67,
   "metadata": {},
   "outputs": [
    {
     "name": "stdout",
     "output_type": "stream",
     "text": [
      "31\n"
     ]
    },
    {
     "ename": "NameError",
     "evalue": "name 'c' is not defined",
     "output_type": "error",
     "traceback": [
      "\u001b[0;31m---------------------------------------------------------------------------\u001b[0m",
      "\u001b[0;31mNameError\u001b[0m                                 Traceback (most recent call last)",
      "\u001b[0;32m<ipython-input-67-d02a806b882c>\u001b[0m in \u001b[0;36m<module>\u001b[0;34m()\u001b[0m\n\u001b[1;32m     11\u001b[0m \u001b[0madd\u001b[0m\u001b[0;34m(\u001b[0m\u001b[0;36m10\u001b[0m\u001b[0;34m,\u001b[0m\u001b[0;36m20\u001b[0m\u001b[0;34m)\u001b[0m\u001b[0;34m\u001b[0m\u001b[0m\n\u001b[1;32m     12\u001b[0m \u001b[0mprint\u001b[0m\u001b[0;34m(\u001b[0m\u001b[0mX\u001b[0m\u001b[0;34m)\u001b[0m\u001b[0;34m\u001b[0m\u001b[0m\n\u001b[0;32m---> 13\u001b[0;31m \u001b[0mprint\u001b[0m\u001b[0;34m(\u001b[0m\u001b[0mc\u001b[0m\u001b[0;34m)\u001b[0m\u001b[0;34m\u001b[0m\u001b[0m\n\u001b[0m",
      "\u001b[0;31mNameError\u001b[0m: name 'c' is not defined"
     ]
    }
   ],
   "source": [
    "X = 30\n",
    "\n",
    "def add(a, b):\n",
    "    global X\n",
    "    X = X + 1\n",
    "    c = a + b\n",
    "    #if c > 10:\n",
    "    #    print(c)\n",
    "    return c\n",
    "\n",
    "add(10,20)\n",
    "print(X)\n",
    "# print(c)"
   ]
  },
  {
   "cell_type": "code",
   "execution_count": 10,
   "metadata": {},
   "outputs": [
    {
     "data": {
      "text/plain": [
       "1"
      ]
     },
     "execution_count": 10,
     "metadata": {},
     "output_type": "execute_result"
    }
   ],
   "source": [
    "add(3, 4)"
   ]
  },
  {
   "cell_type": "code",
   "execution_count": 9,
   "metadata": {},
   "outputs": [
    {
     "data": {
      "text/plain": [
       "'pythonanaconda'"
      ]
     },
     "execution_count": 9,
     "metadata": {},
     "output_type": "execute_result"
    }
   ],
   "source": [
    "add('python', 'anaconda')"
   ]
  },
  {
   "cell_type": "code",
   "execution_count": 12,
   "metadata": {},
   "outputs": [
    {
     "ename": "TypeError",
     "evalue": "unsupported operand type(s) for -: 'str' and 'str'",
     "output_type": "error",
     "traceback": [
      "\u001b[0;31m---------------------------------------------------------------------------\u001b[0m",
      "\u001b[0;31mTypeError\u001b[0m                                 Traceback (most recent call last)",
      "\u001b[0;32m<ipython-input-12-81e6a0ac7a2b>\u001b[0m in \u001b[0;36m<module>\u001b[0;34m()\u001b[0m\n\u001b[0;32m----> 1\u001b[0;31m \u001b[0madd\u001b[0m\u001b[0;34m(\u001b[0m\u001b[0;34m'anaconda'\u001b[0m\u001b[0;34m,\u001b[0m \u001b[0;34m'python'\u001b[0m\u001b[0;34m)\u001b[0m\u001b[0;34m\u001b[0m\u001b[0m\n\u001b[0m",
      "\u001b[0;32m<ipython-input-8-8573a7d86325>\u001b[0m in \u001b[0;36madd\u001b[0;34m(n1, n2)\u001b[0m\n\u001b[1;32m      1\u001b[0m \u001b[0;32mdef\u001b[0m \u001b[0madd\u001b[0m\u001b[0;34m(\u001b[0m\u001b[0mn1\u001b[0m\u001b[0;34m,\u001b[0m \u001b[0mn2\u001b[0m\u001b[0;34m)\u001b[0m\u001b[0;34m:\u001b[0m\u001b[0;34m\u001b[0m\u001b[0m\n\u001b[0;32m----> 2\u001b[0;31m     \u001b[0;32mreturn\u001b[0m \u001b[0mn1\u001b[0m\u001b[0;34m+\u001b[0m\u001b[0mn2\u001b[0m \u001b[0;32mif\u001b[0m \u001b[0mn1\u001b[0m \u001b[0;34m>\u001b[0m \u001b[0mn2\u001b[0m \u001b[0;32melse\u001b[0m \u001b[0mn2\u001b[0m\u001b[0;34m-\u001b[0m\u001b[0mn1\u001b[0m\u001b[0;34m\u001b[0m\u001b[0m\n\u001b[0m\u001b[1;32m      3\u001b[0m \u001b[0;34m\u001b[0m\u001b[0m\n\u001b[1;32m      4\u001b[0m \u001b[0;31m# add(10, 30)\u001b[0m\u001b[0;34m\u001b[0m\u001b[0;34m\u001b[0m\u001b[0m\n\u001b[1;32m      5\u001b[0m \u001b[0mn1\u001b[0m \u001b[0;34m=\u001b[0m \u001b[0minput\u001b[0m\u001b[0;34m(\u001b[0m\u001b[0;34m'Enter first number : '\u001b[0m\u001b[0;34m)\u001b[0m\u001b[0;34m\u001b[0m\u001b[0m\n",
      "\u001b[0;31mTypeError\u001b[0m: unsupported operand type(s) for -: 'str' and 'str'"
     ]
    }
   ],
   "source": [
    "add('anaconda', 'python')"
   ]
  },
  {
   "cell_type": "markdown",
   "metadata": {},
   "source": [
    "# Built-In Functions"
   ]
  },
  {
   "cell_type": "code",
   "execution_count": 6,
   "metadata": {},
   "outputs": [
    {
     "data": {
      "text/plain": [
       "['In',\n",
       " 'Out',\n",
       " '_',\n",
       " '_2',\n",
       " '_3',\n",
       " '_4',\n",
       " '__',\n",
       " '___',\n",
       " '__builtin__',\n",
       " '__builtins__',\n",
       " '__doc__',\n",
       " '__loader__',\n",
       " '__name__',\n",
       " '__package__',\n",
       " '__spec__',\n",
       " '_dh',\n",
       " '_i',\n",
       " '_i1',\n",
       " '_i2',\n",
       " '_i3',\n",
       " '_i4',\n",
       " '_i5',\n",
       " '_i6',\n",
       " '_ih',\n",
       " '_ii',\n",
       " '_iii',\n",
       " '_oh',\n",
       " 'add',\n",
       " 'exit',\n",
       " 'get_ipython',\n",
       " 'json',\n",
       " 'n1',\n",
       " 'n2',\n",
       " 'os',\n",
       " 'quit',\n",
       " 'sys']"
      ]
     },
     "execution_count": 6,
     "metadata": {},
     "output_type": "execute_result"
    }
   ],
   "source": [
    "dir()"
   ]
  },
  {
   "cell_type": "code",
   "execution_count": 7,
   "metadata": {},
   "outputs": [
    {
     "data": {
      "text/plain": [
       "10"
      ]
     },
     "execution_count": 7,
     "metadata": {},
     "output_type": "execute_result"
    }
   ],
   "source": [
    "abs(-10)"
   ]
  },
  {
   "cell_type": "code",
   "execution_count": 10,
   "metadata": {},
   "outputs": [
    {
     "ename": "TypeError",
     "evalue": "'int' object is not iterable",
     "output_type": "error",
     "traceback": [
      "\u001b[0;31m---------------------------------------------------------------------------\u001b[0m",
      "\u001b[0;31mTypeError\u001b[0m                                 Traceback (most recent call last)",
      "\u001b[0;32m<ipython-input-10-f120f5b954a4>\u001b[0m in \u001b[0;36m<module>\u001b[0;34m()\u001b[0m\n\u001b[0;32m----> 1\u001b[0;31m \u001b[0msum\u001b[0m\u001b[0;34m(\u001b[0m\u001b[0;36m20\u001b[0m\u001b[0;34m,\u001b[0m \u001b[0;36m30\u001b[0m\u001b[0;34m)\u001b[0m\u001b[0;34m\u001b[0m\u001b[0m\n\u001b[0m",
      "\u001b[0;31mTypeError\u001b[0m: 'int' object is not iterable"
     ]
    }
   ],
   "source": [
    "sum(20, 30)"
   ]
  },
  {
   "cell_type": "code",
   "execution_count": 11,
   "metadata": {},
   "outputs": [
    {
     "data": {
      "text/plain": [
       "90"
      ]
     },
     "execution_count": 11,
     "metadata": {},
     "output_type": "execute_result"
    }
   ],
   "source": [
    "sum([20,30,40])"
   ]
  },
  {
   "cell_type": "code",
   "execution_count": 34,
   "metadata": {},
   "outputs": [
    {
     "data": {
      "text/plain": [
       "'A'"
      ]
     },
     "execution_count": 34,
     "metadata": {},
     "output_type": "execute_result"
    }
   ],
   "source": [
    "chr(65)"
   ]
  },
  {
   "cell_type": "code",
   "execution_count": 35,
   "metadata": {},
   "outputs": [
    {
     "data": {
      "text/plain": [
       "'a'"
      ]
     },
     "execution_count": 35,
     "metadata": {},
     "output_type": "execute_result"
    }
   ],
   "source": [
    "chr(97)"
   ]
  },
  {
   "cell_type": "code",
   "execution_count": 14,
   "metadata": {},
   "outputs": [
    {
     "data": {
      "text/plain": [
       "12"
      ]
     },
     "execution_count": 14,
     "metadata": {},
     "output_type": "execute_result"
    }
   ],
   "source": [
    "int(12.36)"
   ]
  },
  {
   "cell_type": "code",
   "execution_count": 58,
   "metadata": {},
   "outputs": [
    {
     "data": {
      "text/plain": [
       "True"
      ]
     },
     "execution_count": 58,
     "metadata": {},
     "output_type": "execute_result"
    }
   ],
   "source": [
    "marks = [45, 54, 99, 81, 12, -3]\n",
    "any(marks)"
   ]
  },
  {
   "cell_type": "code",
   "execution_count": 60,
   "metadata": {},
   "outputs": [
    {
     "data": {
      "text/plain": [
       "False"
      ]
     },
     "execution_count": 60,
     "metadata": {},
     "output_type": "execute_result"
    }
   ],
   "source": [
    "marks.append(0)\n",
    "all(marks)"
   ]
  },
  {
   "cell_type": "code",
   "execution_count": 61,
   "metadata": {},
   "outputs": [
    {
     "data": {
      "text/plain": [
       "[30, 40, 10]"
      ]
     },
     "execution_count": 61,
     "metadata": {},
     "output_type": "execute_result"
    }
   ],
   "source": [
    "list(reversed([10, 40, 30]))"
   ]
  },
  {
   "cell_type": "code",
   "execution_count": 63,
   "metadata": {},
   "outputs": [
    {
     "data": {
      "text/plain": [
       "[99, 81, 54, 45, 12, 0, -3]"
      ]
     },
     "execution_count": 63,
     "metadata": {},
     "output_type": "execute_result"
    }
   ],
   "source": [
    "sorted(marks, reverse=True)"
   ]
  },
  {
   "cell_type": "code",
   "execution_count": 20,
   "metadata": {},
   "outputs": [
    {
     "data": {
      "text/plain": [
       "True"
      ]
     },
     "execution_count": 20,
     "metadata": {},
     "output_type": "execute_result"
    }
   ],
   "source": [
    "names = ['Python', 'Steve', 'Jobs']\n",
    "all(names)"
   ]
  },
  {
   "cell_type": "code",
   "execution_count": 21,
   "metadata": {},
   "outputs": [
    {
     "name": "stdout",
     "output_type": "stream",
     "text": [
      "30\n",
      "40\n",
      "10\n"
     ]
    }
   ],
   "source": [
    "for x in reversed([10, 40, 30]):\n",
    "    print(x)"
   ]
  },
  {
   "cell_type": "code",
   "execution_count": 14,
   "metadata": {},
   "outputs": [
    {
     "name": "stdout",
     "output_type": "stream",
     "text": [
      "0 10\n",
      "1 20\n",
      "2 30\n"
     ]
    }
   ],
   "source": [
    "for index, val in enumerate([10, 20, 30]):\n",
    "    print(index,val)"
   ]
  },
  {
   "cell_type": "code",
   "execution_count": 65,
   "metadata": {},
   "outputs": [
    {
     "data": {
      "text/plain": [
       "'0b10'"
      ]
     },
     "execution_count": 65,
     "metadata": {},
     "output_type": "execute_result"
    }
   ],
   "source": [
    "bin(2)"
   ]
  },
  {
   "cell_type": "code",
   "execution_count": 16,
   "metadata": {},
   "outputs": [
    {
     "data": {
      "text/plain": [
       "'0o50'"
      ]
     },
     "execution_count": 16,
     "metadata": {},
     "output_type": "execute_result"
    }
   ],
   "source": [
    "oct(40)"
   ]
  },
  {
   "cell_type": "code",
   "execution_count": 37,
   "metadata": {},
   "outputs": [
    {
     "data": {
      "text/plain": [
       "'0x4'"
      ]
     },
     "execution_count": 37,
     "metadata": {},
     "output_type": "execute_result"
    }
   ],
   "source": [
    "hex(4)"
   ]
  },
  {
   "cell_type": "code",
   "execution_count": 38,
   "metadata": {},
   "outputs": [
    {
     "ename": "ValueError",
     "evalue": "invalid literal for int() with base 10: '0x4'",
     "output_type": "error",
     "traceback": [
      "\u001b[0;31m---------------------------------------------------------------------------\u001b[0m",
      "\u001b[0;31mValueError\u001b[0m                                Traceback (most recent call last)",
      "\u001b[0;32m<ipython-input-38-26f49fde94bb>\u001b[0m in \u001b[0;36m<module>\u001b[0;34m()\u001b[0m\n\u001b[0;32m----> 1\u001b[0;31m \u001b[0mint\u001b[0m\u001b[0;34m(\u001b[0m\u001b[0mhex\u001b[0m\u001b[0;34m(\u001b[0m\u001b[0;36m4\u001b[0m\u001b[0;34m)\u001b[0m\u001b[0;34m)\u001b[0m\u001b[0;34m\u001b[0m\u001b[0m\n\u001b[0m",
      "\u001b[0;31mValueError\u001b[0m: invalid literal for int() with base 10: '0x4'"
     ]
    }
   ],
   "source": [
    "int(hex(4))"
   ]
  },
  {
   "cell_type": "code",
   "execution_count": 17,
   "metadata": {},
   "outputs": [
    {
     "name": "stdout",
     "output_type": "stream",
     "text": [
      "40\n"
     ]
    }
   ],
   "source": [
    "v = 0x4\n",
    "print(v)"
   ]
  },
  {
   "cell_type": "code",
   "execution_count": 22,
   "metadata": {},
   "outputs": [
    {
     "data": {
      "text/plain": [
       "63"
      ]
     },
     "execution_count": 22,
     "metadata": {},
     "output_type": "execute_result"
    }
   ],
   "source": [
    "oc = 0o77\n",
    "oc"
   ]
  },
  {
   "cell_type": "markdown",
   "metadata": {},
   "source": [
    "# Lambda, map, filter and reduce"
   ]
  },
  {
   "cell_type": "code",
   "execution_count": null,
   "metadata": {
    "collapsed": true
   },
   "outputs": [],
   "source": [
    "def sq_func(x):\n",
    "    return x**2 if x > 10 else x**3"
   ]
  },
  {
   "cell_type": "code",
   "execution_count": 42,
   "metadata": {},
   "outputs": [
    {
     "data": {
      "text/plain": [
       "27"
      ]
     },
     "execution_count": 42,
     "metadata": {},
     "output_type": "execute_result"
    }
   ],
   "source": [
    "sq = lambda x : x**2 if x > 10 else x**3 # def add(x, y)\n",
    "sq(3)"
   ]
  },
  {
   "cell_type": "code",
   "execution_count": 41,
   "metadata": {},
   "outputs": [
    {
     "data": {
      "text/plain": [
       "144"
      ]
     },
     "execution_count": 41,
     "metadata": {},
     "output_type": "execute_result"
    }
   ],
   "source": [
    "sq(12)"
   ]
  },
  {
   "cell_type": "code",
   "execution_count": 44,
   "metadata": {},
   "outputs": [
    {
     "data": {
      "text/plain": [
       "[45, 54, 99, 81, 12, -3]"
      ]
     },
     "execution_count": 44,
     "metadata": {},
     "output_type": "execute_result"
    }
   ],
   "source": [
    "marks"
   ]
  },
  {
   "cell_type": "code",
   "execution_count": 47,
   "metadata": {},
   "outputs": [
    {
     "name": "stdout",
     "output_type": "stream",
     "text": [
      "Needs Improvement\n",
      "Needs Improvement\n",
      "Perfect\n",
      "Perfect\n",
      "Needs Improvement\n"
     ]
    }
   ],
   "source": [
    "def categorize_marks(mark):\n",
    "    if mark > 70:\n",
    "        return 'Perfect'\n",
    "    else:\n",
    "        return 'Needs Improvement'\n",
    "    \n",
    "for mark in marks[:-1]:\n",
    "    print(categorize_marks(mark))"
   ]
  },
  {
   "cell_type": "code",
   "execution_count": 57,
   "metadata": {},
   "outputs": [
    {
     "data": {
      "text/plain": [
       "['Needs Improvement',\n",
       " 'Needs Improvement',\n",
       " 'Perfect',\n",
       " 'Perfect',\n",
       " 'Needs Improvement',\n",
       " 'Needs Improvement']"
      ]
     },
     "execution_count": 57,
     "metadata": {},
     "output_type": "execute_result"
    }
   ],
   "source": [
    "list(map(categorize_marks, marks))"
   ]
  },
  {
   "cell_type": "code",
   "execution_count": 48,
   "metadata": {},
   "outputs": [
    {
     "data": {
      "text/plain": [
       "['Needs Improvement',\n",
       " 'Needs Improvement',\n",
       " 'Perfect',\n",
       " 'Perfect',\n",
       " 'Needs Improvement',\n",
       " 'Needs Improvement']"
      ]
     },
     "execution_count": 48,
     "metadata": {},
     "output_type": "execute_result"
    }
   ],
   "source": [
    "list(map(lambda x: 'Perfect' if x >= 70 else 'Needs Improvement', marks)) # concise way of transforming values"
   ]
  },
  {
   "cell_type": "code",
   "execution_count": 49,
   "metadata": {},
   "outputs": [
    {
     "data": {
      "text/plain": [
       "[54, 99, 81, -3]"
      ]
     },
     "execution_count": 49,
     "metadata": {},
     "output_type": "execute_result"
    }
   ],
   "source": [
    "list(filter(lambda x: (x >= 50 and x <= 75) or (x < 10 or x > 80), marks)) # concise way of filtering values"
   ]
  },
  {
   "cell_type": "code",
   "execution_count": 50,
   "metadata": {},
   "outputs": [
    {
     "name": "stdout",
     "output_type": "stream",
     "text": [
      "[54, 99, 81]\n"
     ]
    }
   ],
   "source": [
    "high_marks = []\n",
    "for x in marks:\n",
    "    if x >= 50:\n",
    "        high_marks.append(x)\n",
    "print(high_marks)"
   ]
  },
  {
   "cell_type": "code",
   "execution_count": 51,
   "metadata": {},
   "outputs": [
    {
     "name": "stdout",
     "output_type": "stream",
     "text": [
      "54\n",
      "99\n",
      "81\n"
     ]
    }
   ],
   "source": [
    "for x in filter(lambda x: x >= 50, marks):\n",
    "    print(x)"
   ]
  },
  {
   "cell_type": "code",
   "execution_count": 30,
   "metadata": {},
   "outputs": [
    {
     "data": {
      "text/plain": [
       "[54, 99, 81]"
      ]
     },
     "execution_count": 30,
     "metadata": {},
     "output_type": "execute_result"
    }
   ],
   "source": [
    "def is_gt_50(mark):\n",
    "    return mark>=50\n",
    "\n",
    "list(filter(is_gt_50, marks))"
   ]
  },
  {
   "cell_type": "code",
   "execution_count": 50,
   "metadata": {},
   "outputs": [
    {
     "data": {
      "text/plain": [
       "15"
      ]
     },
     "execution_count": 50,
     "metadata": {},
     "output_type": "execute_result"
    }
   ],
   "source": [
    "from functools import reduce\n",
    "reduce((lambda x, y: x+y), range(1,6))"
   ]
  },
  {
   "cell_type": "code",
   "execution_count": null,
   "metadata": {
    "collapsed": true
   },
   "outputs": [],
   "source": [
    "# 1,2,3,4,5 = (((1*2)*3)*4)*5 => 1*2 (x) 3(y) = x* y = (1*2*3) saved to x (1 * 2 * 3) y (4) "
   ]
  },
  {
   "cell_type": "code",
   "execution_count": 67,
   "metadata": {},
   "outputs": [
    {
     "ename": "TypeError",
     "evalue": "'NoneType' object is not callable",
     "output_type": "error",
     "traceback": [
      "\u001b[0;31m---------------------------------------------------------------------------\u001b[0m",
      "\u001b[0;31mTypeError\u001b[0m                                 Traceback (most recent call last)",
      "\u001b[0;32m<ipython-input-67-3ca2b06bf5dc>\u001b[0m in \u001b[0;36m<module>\u001b[0;34m()\u001b[0m\n\u001b[1;32m      9\u001b[0m \u001b[0mx\u001b[0m \u001b[0;34m=\u001b[0m \u001b[0mf1\u001b[0m\u001b[0;34m(\u001b[0m\u001b[0;34m)\u001b[0m\u001b[0;34m\u001b[0m\u001b[0m\n\u001b[1;32m     10\u001b[0m \u001b[0;31m# x.close()\u001b[0m\u001b[0;34m\u001b[0m\u001b[0;34m\u001b[0m\u001b[0m\n\u001b[0;32m---> 11\u001b[0;31m \u001b[0mx\u001b[0m\u001b[0;34m.\u001b[0m\u001b[0mgi_yieldfrom\u001b[0m\u001b[0;34m(\u001b[0m\u001b[0;34m)\u001b[0m\u001b[0;34m\u001b[0m\u001b[0m\n\u001b[0m",
      "\u001b[0;31mTypeError\u001b[0m: 'NoneType' object is not callable"
     ]
    }
   ],
   "source": [
    "def f1():\n",
    "    for x in marks:\n",
    "        yield x\n",
    "\n",
    "# print(list(f1()))\n",
    "# x = f1()\n",
    "# for y in f1():\n",
    "#     print(y)\n",
    "x = f1()\n",
    "# x.close\n"
   ]
  },
  {
   "cell_type": "code",
   "execution_count": 42,
   "metadata": {},
   "outputs": [
    {
     "name": "stdout",
     "output_type": "stream",
     "text": [
      "1\n"
     ]
    }
   ],
   "source": [
    "# Generator\n",
    "def elements(int_input):\n",
    "    for x in range(1, int_input+1):\n",
    "        return x\n",
    "    print('Hello')\n",
    "        \n",
    "print(elements(5))\n",
    "# list(elements(5))\n",
    "# range(1, 11)\n",
    "# for value in elements(5):\n",
    "#     print(value)"
   ]
  },
  {
   "cell_type": "markdown",
   "metadata": {},
   "source": [
    "# Function arguments - positional, keywords, arbitrary length"
   ]
  },
  {
   "cell_type": "code",
   "execution_count": 33,
   "metadata": {},
   "outputs": [
    {
     "name": "stdout",
     "output_type": "stream",
     "text": [
      "10 20 30\n",
      "()\n",
      "{'d': 40, 'e': 50}\n"
     ]
    }
   ],
   "source": [
    "# non-default arguments - specify value for every argument\n",
    "# default arguments - default to value specified\n",
    "\n",
    "# positional notation - passing and defining arguments\n",
    "# keyword notation - passing and defining arguments\n",
    "\n",
    "def fun(a,b,c,d=60,*p,**kwargs):\n",
    "    print(a,b,c)\n",
    "    print(p)\n",
    "    #print(d,e,f)\n",
    "    print(kwargs)\n",
    "    \n",
    "# fun(10, 20, 30) # positional\n",
    "# fun(a=10,c=20,b=45) # keyword notation\n",
    "fun(a=10, c=30, b=20, d=40, e=50)\n",
    "# fun(10, 20)"
   ]
  },
  {
   "cell_type": "code",
   "execution_count": 30,
   "metadata": {},
   "outputs": [
    {
     "name": "stdout",
     "output_type": "stream",
     "text": [
      "<class 'tuple'> ()\n",
      "<class 'tuple'> (10, 20, 30, 40, 0, 1, 2, 3, 4, 5, 6, 7, 8, 9)\n"
     ]
    }
   ],
   "source": [
    "def pass_the_world(*c):\n",
    "    print(type(c), c)\n",
    "    \n",
    "pass_the_world()\n",
    "pass_the_world(10,20,30,40,*list(range(10)))"
   ]
  },
  {
   "cell_type": "code",
   "execution_count": null,
   "metadata": {
    "collapsed": true
   },
   "outputs": [],
   "source": []
  },
  {
   "cell_type": "code",
   "execution_count": 38,
   "metadata": {},
   "outputs": [
    {
     "name": "stdout",
     "output_type": "stream",
     "text": [
      "10 20 30 3\n",
      "<class 'tuple'>\n",
      "<class 'dict'>\n",
      "()\n",
      "{'k': 10, 'v': 20, 'p': 50}\n"
     ]
    }
   ],
   "source": [
    "# non-default arguments\n",
    "# default arguments\n",
    "# positional notation - passing and defining arguments\n",
    "# keyword notation - passing and defining arguments\n",
    "\n",
    "def format_name(fname, lname, mname=None, reverse=False):\n",
    "    print(type(fname), type(lname), type(reverse))\n",
    "    if reverse:\n",
    "        return lname + ' ' + fname\n",
    "    else:\n",
    "        return fname + ' ' + lname\n",
    "\n",
    "# print(format_name('Python', 'Spark'))\n",
    "\n",
    "# oracle : username, password, tnsname\n",
    "# mysql: username, password, host, port, ssl-key, ssl-ca, ssl-cert\n",
    "def connect(db_type, **kwargs):\n",
    "    oracle_template = 'jdbc:client:://{username}:{password}/{tnsname}/{host}/{port}'\n",
    "    if db_type == 'Oracle':\n",
    "        cxn_str = oracle_template.format(**kwargs) # 'jdbc:client:://{username}:{password}/{tnsname}\n",
    "        print(cxn_str)\n",
    "    elif db_type ==\"mysql\":\n",
    "        cxn_str = oracle_template.format(**kwargs) # 'jdbc:mysql://hist:port/username/password/sslc/sslk'\n",
    "        print(cxn_str)\n",
    "    \n",
    "def add_marks(standard, names=None, **marks):\n",
    "    return sum(marks)\n",
    "\n",
    "def master(ndf1, ndf2, df1=2, df2=3, d=3, *args, **kwargs):\n",
    "    print(ndf1, ndf2, df1, df2)\n",
    "    print(type(args))\n",
    "    print(type(kwargs))\n",
    "    print(args)\n",
    "    print(kwargs)\n",
    "    \n",
    "master(10, 20, df1=30, k=10, v=20, d=30, p=50)\n",
    "#rint(add_marks('Xth', marks=[10, 20, 30, 40, 90, 100, 45, 54]))\n",
    "# connect('mysql', username='Python', password='Anaconda', tnsname='Disaster', host='cloudserver', port='3306')\n"
   ]
  },
  {
   "cell_type": "code",
   "execution_count": 59,
   "metadata": {},
   "outputs": [
    {
     "name": "stdout",
     "output_type": "stream",
     "text": [
      "<class 'tuple'>\n",
      "(10, 20, 30)\n"
     ]
    }
   ],
   "source": [
    "def flexi(*args):\n",
    "    print(type(args))\n",
    "    print(args)\n",
    "    \n",
    "# flexi()\n",
    "flexi(10,20,30)\n",
    "# flexi(10)"
   ]
  },
  {
   "cell_type": "code",
   "execution_count": 63,
   "metadata": {},
   "outputs": [
    {
     "name": "stdout",
     "output_type": "stream",
     "text": [
      "10 20 30\n",
      "(40, 50, 63, 75, 81, 0, 12)\n",
      "381\n",
      "------\n"
     ]
    }
   ],
   "source": [
    "def afun(a,b,c=100,*args):\n",
    "    print(a,b,c)\n",
    "    print(args)\n",
    "    print(a+b+c+sum(args))\n",
    "    print('------')\n",
    "# afun(10,20)\n",
    "# afun(10,20,30)\n",
    "afun(10,20,30,40,50,63,75,81,0,12)"
   ]
  },
  {
   "cell_type": "code",
   "execution_count": 65,
   "metadata": {},
   "outputs": [
    {
     "name": "stdout",
     "output_type": "stream",
     "text": [
      "10 20 30\n",
      "(40, 50, 63, 75, 81, 0, 12)\n",
      "{'d': 40, 'e': 50, 'f': 60}\n",
      "------\n"
     ]
    }
   ],
   "source": [
    "def afun(a,b,c=45,*args,**kwargs):\n",
    "    print(a,b,c)\n",
    "    print(args)\n",
    "    print(kwargs)\n",
    "    print('------')\n",
    "# afun(10,20)\n",
    "# afun(10,20,30)\n",
    "# afun(10,20,30,40,50,63,75,81,0,12)\n",
    "afun(10,20,30,40,50,63,75,81,0,12,d=40,e=50,f=60)"
   ]
  },
  {
   "cell_type": "markdown",
   "metadata": {},
   "source": [
    "# Classes"
   ]
  },
  {
   "cell_type": "code",
   "execution_count": 1,
   "metadata": {},
   "outputs": [
    {
     "name": "stdout",
     "output_type": "stream",
     "text": [
      "<class '__main__.Number'>\n",
      "<__main__.Number object at 0x7f4fb44a50f0>\n"
     ]
    }
   ],
   "source": [
    "class Number():\n",
    "    pass\n",
    "\n",
    "x = Number\n",
    "y = Number()\n",
    "print(x)\n",
    "print(y)"
   ]
  },
  {
   "cell_type": "code",
   "execution_count": 25,
   "metadata": {},
   "outputs": [
    {
     "name": "stdout",
     "output_type": "stream",
     "text": [
      "This is my last breath, interpreter will perform the rites.\n",
      "This is my last breath, interpreter will perform the rites.\n",
      "Inside constructor\n",
      "This is my last breath, interpreter will perform the rites.\n",
      "999999999\n",
      "Python Enthusiast reachable@gmail.com 30 999999999\n",
      "4Id51VLYng\n",
      "b'NElkNTFWTFluZw=='\n"
     ]
    }
   ],
   "source": [
    "class EdurekaCustomer(object):\n",
    "    '''\n",
    "    This class is used to represent Edureka Customer.\n",
    "    '''\n",
    "    DEFAULT_DISC = '3%'\n",
    "    DISC_STRATEGY = lambda age: '20%' if age <= 40 else '15%'\n",
    "    \n",
    "    def __get_default_pwd(cls):\n",
    "        import random, string\n",
    "        return ''.join([random.choice(string.ascii_letters + string.digits) for x in range(10)])\n",
    "    \n",
    "    def __init__(self, name, email, phone, age, userid):\n",
    "        print('Inside constructor')\n",
    "        self.name = name\n",
    "        self.email = email\n",
    "        self.phone = phone\n",
    "        self._age = age\n",
    "        self.userid = userid\n",
    "        self.__pwd = self.__get_default_pwd()\n",
    "        \n",
    "    @property\n",
    "    def hashed_pwd(self):\n",
    "        import base64\n",
    "        return base64.b64encode(self.__pwd.encode())\n",
    "        \n",
    "    def set_phone(self, val):\n",
    "        self.phone = phone\n",
    "        \n",
    "    def get_phone(self):\n",
    "        return self.phone\n",
    "        \n",
    "    def set_pwd(self, pwd):\n",
    "        self.__pwd = pwd # base64\n",
    "\n",
    "    @classmethod # decorator\n",
    "    def owned_by_class(cls, arg1):\n",
    "        print(cls.DISC_STRATEGY(30))\n",
    "        print(arg1)\n",
    "        cls.i_am_static('called from owned_by_class')\n",
    "        \n",
    "    def available_discount(self, wealthy_customer=False):\n",
    "        if not wealthy_customer:\n",
    "            self.i_am_static('called from available_discount')\n",
    "            return self.DISC_STRATEGY(self.age)\n",
    "        else:\n",
    "            return self.DEFAULT_DISC\n",
    "        \n",
    "    def __del__(self):\n",
    "        print('This is my last breath, interpreter will perform the rites.')\n",
    "        \n",
    "    @staticmethod\n",
    "    def i_am_static(msg):\n",
    "        print(msg, 'Did you notice, I do not require self/cls as first argument')\n",
    "        return 'Statically simple'\n",
    "        \n",
    "#     def get_pwd(self, pin):\n",
    "#         pin_from_db = self.__fetch_pin()\n",
    "#         if pin == pin_from_db:\n",
    "#             return self.__pwd\n",
    "#         else:\n",
    "#             raise Exception('AuthorizationError : pin mismatch')\n",
    "\n",
    "ob = EdurekaCustomer('Python Enthusiast', 'reachable@gmail.com', '999999999', 30, 'pyenthu')\n",
    "# print(ob)\n",
    "print(ob.get_phone())\n",
    "print(ob.name, ob.email, ob._age, ob.phone)\n",
    "print(ob._EdurekaCustomer__pwd)\n",
    "print(ob.hashed_pwd)\n",
    "# ob.i_am_static('called by object')\n",
    "# EdurekaCustomer.i_am_static('called by class')\n",
    "# print(ob.get_pwd())\n",
    "# del ob\n",
    "# print(ob)\n",
    "# ob.owned_by_class('random')\n",
    "# EdurekaCustomer.owned_by_class('classy')\n",
    "# print(ob.available_discount())\n",
    "# print(EdurekaCustomer.__dict__)\n",
    "# print(EdurekaCustomer.__doc__)\n",
    "# print(EdurekaCustomer.__bases__)\n",
    "# print(EdurekaCustomer.__mro__)\n",
    "# print(EdurekaCustomer.__name__)\n",
    "# print(EdurekaCustomer.DEFAULT_DISC)\n",
    "# print(EdurekaCustomer.owned_by_class('abc'))\n",
    "# print(EdurekaCustomer.i_am_static('Hello'))"
   ]
  },
  {
   "cell_type": "code",
   "execution_count": 20,
   "metadata": {},
   "outputs": [
    {
     "name": "stdout",
     "output_type": "stream",
     "text": [
      "\n"
     ]
    }
   ],
   "source": [
    "import base64\n",
    "pwd = 'aO4Ly1WlMT'\n",
    "print()"
   ]
  },
  {
   "cell_type": "code",
   "execution_count": 23,
   "metadata": {},
   "outputs": [
    {
     "name": "stdout",
     "output_type": "stream",
     "text": [
      "b'YU80THkxV2xNVA=='\n"
     ]
    }
   ],
   "source": [
    "print(base64.b64encode(pwd.encode()))"
   ]
  },
  {
   "cell_type": "code",
   "execution_count": 29,
   "metadata": {},
   "outputs": [
    {
     "name": "stdout",
     "output_type": "stream",
     "text": [
      "Inside Init!\n",
      "Name, Ethnicity and Age : Adam, US, 45\n",
      "Name, Ethnicity and Age : Adam, US, 45\n",
      "Person Brian Adams is not old, age is 45 yrs old, weight is 60 pounds\n",
      "I am on planet : Earth\n"
     ]
    }
   ],
   "source": [
    "SOME_VAR = 'Something'\n",
    "\n",
    "class Species(object):\n",
    "    PLANET = 'Any'\n",
    "\n",
    "    def get_planet(self):\n",
    "        return self.PLANET\n",
    "        \n",
    "class People(Species):\n",
    "    PLANET = 'Earth'\n",
    "    \n",
    "    def __init__(self, name, eth, age):\n",
    "        print('Inside Init!')\n",
    "        self._name = name\n",
    "        self.ethnicity = eth\n",
    "        self.__age = age\n",
    "    \n",
    "    def __str__(self):\n",
    "        return 'Name, Ethnicity and Age : {}, {}, {}'.format(self._name, self.ethnicity, self.__age)\n",
    "    \n",
    "    def get_name(self):\n",
    "        return self._name\n",
    "    \n",
    "    def get_age(self, pretty=True):\n",
    "        return self.__age if not pretty else '{} yrs old'.format(self.__age)\n",
    "    \n",
    "    def __get_db_connection(self):\n",
    "        return cxn\n",
    "    \n",
    "    def __validate_key(self, key):\n",
    "        return 'pwd'\n",
    "    \n",
    "    def get_pwd(self, key):\n",
    "        # verify the key in a db table and fetch associated pwd if key is correct\n",
    "        return 'Authenticated. Password is :', ''\n",
    "    \n",
    "    def is_old(self):\n",
    "        return self.__age > 60\n",
    "    \n",
    "#     def get_planet(self):\n",
    "#         return 'Mostly {} if a person is not cosmonaut.'.format(self.PLANET)\n",
    "        \n",
    "    def lives_under_water(self):\n",
    "        return 'Depends. If it is '\n",
    "\n",
    "x = People('Adam', 'US', 45)\n",
    "print(x)\n",
    "x.weight = '60 pounds'\n",
    "print(x)\n",
    "is_old = x.is_old()\n",
    "x._name = 'Brian Adams'\n",
    "is_old = 'is' if is_old else 'is not'\n",
    "print('Person {} {} old, age is {}, weight is {}'.format(x._name, is_old, x.get_age(), x.weight))\n",
    "print('I am on planet : {}'.format(x.get_planet()))"
   ]
  },
  {
   "cell_type": "code",
   "execution_count": null,
   "metadata": {
    "collapsed": true
   },
   "outputs": [],
   "source": [
    "class Vector(object): # N x 1 or 1 x N\n",
    "    def __init__(self, *elements):\n",
    "        self.elements = list(elements)\n",
    "        \n",
    "    def get_elements(self):\n",
    "        return self.elements\n",
    "    \n",
    "    # for overloading +\n",
    "    def __add__(self, other):\n",
    "        values = []\n",
    "        for x, y in zip(self.elements, other.get_elements()):\n",
    "            values.append(x+y)\n",
    "        return values\n",
    "\n",
    "    def __sub__(self, other):\n",
    "        pass\n",
    "    \n",
    "    def __len__(self):\n",
    "        return self.no_of_pages\n",
    "    \n",
    "book1 = Book('Author', 'Name', 'No of Pages')\n",
    "len(book1)"
   ]
  },
  {
   "cell_type": "code",
   "execution_count": 32,
   "metadata": {},
   "outputs": [
    {
     "name": "stdout",
     "output_type": "stream",
     "text": [
      "abc\n",
      "Abstract Base Classes (ABCs) according to PEP 3119.\n"
     ]
    }
   ],
   "source": [
    "import abc\n",
    "print(abc.__name__)\n",
    "print(abc.__doc__)"
   ]
  },
  {
   "cell_type": "code",
   "execution_count": 86,
   "metadata": {},
   "outputs": [
    {
     "data": {
      "text/plain": [
       "['__class__',\n",
       " '__delattr__',\n",
       " '__dict__',\n",
       " '__dir__',\n",
       " '__doc__',\n",
       " '__eq__',\n",
       " '__format__',\n",
       " '__ge__',\n",
       " '__getattribute__',\n",
       " '__gt__',\n",
       " '__hash__',\n",
       " '__init__',\n",
       " '__init_subclass__',\n",
       " '__le__',\n",
       " '__lt__',\n",
       " '__module__',\n",
       " '__ne__',\n",
       " '__new__',\n",
       " '__reduce__',\n",
       " '__reduce_ex__',\n",
       " '__repr__',\n",
       " '__setattr__',\n",
       " '__sizeof__',\n",
       " '__str__',\n",
       " '__subclasshook__',\n",
       " '__weakref__']"
      ]
     },
     "execution_count": 86,
     "metadata": {},
     "output_type": "execute_result"
    }
   ],
   "source": [
    "dir(Number)"
   ]
  },
  {
   "cell_type": "code",
   "execution_count": 135,
   "metadata": {
    "collapsed": true
   },
   "outputs": [],
   "source": [
    "# self - a pointer to current object under consideration\n",
    "# cls - a pointer to the class from which object is derived\n",
    "\n",
    "class Account():\n",
    "    account_type = 'Savings'\n",
    "    \n",
    "    def __init__(self, account_id, name, password):\n",
    "        self.id = account_id\n",
    "        self.name = name\n",
    "        self.__pwd = password\n",
    "    \n",
    "    @classmethod\n",
    "    def _cls_method(cls):\n",
    "        print('This is a class method')\n",
    "    \n",
    "    def welcome(self):\n",
    "        print(self.__get_welcome_message())\n",
    "        \n",
    "    def __get_welcome_message(self):\n",
    "        if self.account_type == 'Savings':\n",
    "            return 'Dear {}, we have some exciting offers for Savings account customers. Please connect with us for more details.'.format(self.name)\n",
    "        else:\n",
    "            return 'Dear {}, welcome to bank XYZ.'.format(self.name)\n",
    "    \n",
    "    def __del__(self):\n",
    "        print('Invoking destructor, happy ending {}'.format(self.name))\n",
    "    \n",
    "#dir(Account)"
   ]
  },
  {
   "cell_type": "code",
   "execution_count": 136,
   "metadata": {},
   "outputs": [
    {
     "name": "stdout",
     "output_type": "stream",
     "text": [
      "{'id': 123, 'name': 'Python', '_Account__pwd': 'anaconda'}\n",
      "Dear Python, we have some exciting offers for Savings account customers. Please connect with us for more details.\n",
      "Savings\n",
      "This is a class method\n",
      "This is a class method\n"
     ]
    }
   ],
   "source": [
    "ob1 = Account(123, 'Python', 'anaconda')\n",
    "print(ob1.__dict__)\n",
    "ob1.welcome()\n",
    "print(Account.account_type)\n",
    "Account._cls_method()\n",
    "ob1._cls_method()\n",
    "\n",
    "# print(Account.__dict__)\n",
    "# print(Account.__doc__)"
   ]
  },
  {
   "cell_type": "code",
   "execution_count": 137,
   "metadata": {},
   "outputs": [
    {
     "name": "stdout",
     "output_type": "stream",
     "text": [
      "Invoking destructor, happy ending Python\n"
     ]
    }
   ],
   "source": [
    "del ob1"
   ]
  },
  {
   "cell_type": "code",
   "execution_count": 138,
   "metadata": {},
   "outputs": [
    {
     "ename": "NameError",
     "evalue": "name 'ob1' is not defined",
     "output_type": "error",
     "traceback": [
      "\u001b[0;31m---------------------------------------------------------------------------\u001b[0m",
      "\u001b[0;31mNameError\u001b[0m                                 Traceback (most recent call last)",
      "\u001b[0;32m<ipython-input-138-f9a4aac9337e>\u001b[0m in \u001b[0;36m<module>\u001b[0;34m()\u001b[0m\n\u001b[0;32m----> 1\u001b[0;31m \u001b[0mob1\u001b[0m\u001b[0;34m\u001b[0m\u001b[0m\n\u001b[0m",
      "\u001b[0;31mNameError\u001b[0m: name 'ob1' is not defined"
     ]
    }
   ],
   "source": [
    "ob1"
   ]
  },
  {
   "cell_type": "code",
   "execution_count": 93,
   "metadata": {},
   "outputs": [
    {
     "name": "stdout",
     "output_type": "stream",
     "text": [
      "Account\n"
     ]
    }
   ],
   "source": [
    "print(Account.__name__)"
   ]
  },
  {
   "cell_type": "code",
   "execution_count": 111,
   "metadata": {
    "collapsed": true
   },
   "outputs": [],
   "source": [
    "Account.account_type = 'Current'\n",
    "ob = Account()\n",
    "#dir(ob)"
   ]
  },
  {
   "cell_type": "code",
   "execution_count": 112,
   "metadata": {},
   "outputs": [
    {
     "data": {
      "text/plain": [
       "'Current'"
      ]
     },
     "execution_count": 112,
     "metadata": {},
     "output_type": "execute_result"
    }
   ],
   "source": [
    "ob.account_type"
   ]
  },
  {
   "cell_type": "code",
   "execution_count": 113,
   "metadata": {},
   "outputs": [
    {
     "name": "stdout",
     "output_type": "stream",
     "text": [
      "Dear Customer, welcome to bank XYZ.\n"
     ]
    }
   ],
   "source": [
    "ob.welcome()"
   ]
  },
  {
   "cell_type": "code",
   "execution_count": 109,
   "metadata": {},
   "outputs": [
    {
     "name": "stdout",
     "output_type": "stream",
     "text": [
      "{}\n"
     ]
    }
   ],
   "source": [
    "print(ob.__dict__)"
   ]
  },
  {
   "cell_type": "code",
   "execution_count": 110,
   "metadata": {},
   "outputs": [
    {
     "name": "stdout",
     "output_type": "stream",
     "text": [
      "<__main__.Account object at 0x7fb6043fa0b8>\n"
     ]
    }
   ],
   "source": [
    "ob.name = 'Bob'\n",
    "print(ob)"
   ]
  },
  {
   "cell_type": "markdown",
   "metadata": {},
   "source": [
    "# Inheritance, Encapsulation/Abstraction, Overriding and Polymorphism"
   ]
  },
  {
   "cell_type": "code",
   "execution_count": 16,
   "metadata": {},
   "outputs": [
    {
     "name": "stdout",
     "output_type": "stream",
     "text": [
      "(<class '__main__.Asians'>, <class '__main__.Civilization'>, <class '__main__.People'>, <class '__main__.Species'>, <class '__main__.JustForClarity'>, <class 'object'>)\n",
      "Depends, as long as the person is not fasting.\n"
     ]
    }
   ],
   "source": [
    "class JustForClarity():\n",
    "    def does_it_eat(self):\n",
    "        return 'God knows what you expect me to return.'\n",
    "\n",
    "class Species():\n",
    "    def does_it_eat(self):\n",
    "        return 'Depends'\n",
    "    \n",
    "    def lives_under_water(self):\n",
    "        raise NotImplementedError\n",
    "        \n",
    "class People(Species):\n",
    "    def needs_oxygen(self):\n",
    "        return True\n",
    "    \n",
    "    def needs_water(self):\n",
    "        return True\n",
    "    \n",
    "    def does_it_eat(self):\n",
    "        output = super(People, self).does_it_eat()\n",
    "        return '{}, as long as the person is not fasting.'.format(output)\n",
    "    \n",
    "    def lives_under_water(self):\n",
    "        return 'Is usually on land unless its too hot when a person would prefer swimming.'\n",
    "    \n",
    "class Civilization(People):\n",
    "    pass\n",
    "#     def does_it_eat(self):\n",
    "#         return 'Civilized to eat only well cooked food.'\n",
    "    \n",
    "class Asians(Civilization, JustForClarity):\n",
    "    pass\n",
    "\n",
    "class Americans(People):\n",
    "    pass\n",
    "    \n",
    "s1 = Species()\n",
    "#print(s1.does_it_eat())\n",
    "#print(s1.lives_under_water())\n",
    "p1 = People()\n",
    "#print(p1.does_it_eat())\n",
    "#print(p1.lives_under_water())\n",
    "a1 = Asians()\n",
    "#print(a1.does_it_eat())\n",
    "print(Asians.__mro__)\n",
    "print(a1.does_it_eat())"
   ]
  },
  {
   "cell_type": "code",
   "execution_count": null,
   "metadata": {
    "collapsed": true
   },
   "outputs": [],
   "source": [
    "# [<one-position>] - lists, tuples, strings, sets\n",
    "# [start:stop:step] - lists, tuples, strings, sets\n",
    "class ConnectToDB():\n",
    "    def __init__(self, connect_to='Postgres'):\n",
    "        self._connect_to = connect_to\n",
    "        self.__establish_cxn()\n",
    "        \n",
    "    def __connect_to_postgres(self):\n",
    "        pass\n",
    "    \n",
    "    def __connect_to_mysql(self):\n",
    "        pass\n",
    "    \n",
    "    def __establish_cxn(self):\n",
    "        if self._connect_to == 'Postgres':\n",
    "            self.__connect_to_postgres()\n",
    "        else:\n",
    "            self.__connect_to_mysql()\n",
    "            \n",
    "    def setCxnToMysql(self):\n",
    "        if self._connect_to != 'MySQL':\n",
    "            self._connect_to = 'MySQL'\n",
    "            self.__establish_cxn()\n",
    "        \n",
    "    def setCxnToPostgres(self):\n",
    "        if self._connect_to != 'Postgres':\n",
    "            self._connect_to = 'Postgres'\n",
    "            self.__establish_cxn()\n",
    "            \n",
    "    def __add__(self):\n",
    "        pass\n",
    "    \n",
    "    def __subtract__(self):\n",
    "        pass\n",
    "    \n",
    "    def __len__(self):\n",
    "        return self.__no_of_pages"
   ]
  },
  {
   "cell_type": "markdown",
   "metadata": {},
   "source": [
    "# Standard Libraries - sys, os, json, random, re, datetime, \n",
    "#                                    string, dateutil, math"
   ]
  },
  {
   "cell_type": "code",
   "execution_count": 17,
   "metadata": {},
   "outputs": [
    {
     "name": "stdout",
     "output_type": "stream",
     "text": [
      "['/usr/local/anaconda/python3/lib/python3.6/site-packages/ipykernel_launcher.py', '-f', '/mnt/home/edureka_121039/.local/share/jupyter/runtime/kernel-688557a8-ff1c-4234-915f-cc9fad9a8b17.json']\n"
     ]
    }
   ],
   "source": [
    "import sys\n",
    "print(sys.argv)"
   ]
  },
  {
   "cell_type": "code",
   "execution_count": 4,
   "metadata": {
    "collapsed": true
   },
   "outputs": [],
   "source": [
    "import os\n",
    "import random\n",
    "import sys\n",
    "import string\n",
    "import datetime\n",
    "from datetime import datetime, date, timedelta\n",
    "from dateutil import parser\n",
    "import json\n",
    "\n",
    "# l1 = sys.argv\n",
    "# print('Welcome {} to Python world!'.format(l1[1]))\n",
    "# print(os.getcwd())\n",
    "# os.chdir(l1[2])\n",
    "# print(os.getcwd())\n",
    "\n",
    "# print(random.randrange(12))\n",
    "# print(random.randint(10, 13))\n",
    "# lot = ['abc123', 'def345', 'ghi987']\n",
    "# print(random.choice(lot))\n",
    "# random.choice\n",
    "# list of letters + list of digits\n",
    "# print(string.ascii_letters + string.digits + string.punctuation)\n",
    "# print(''.join([random.choice(string.ascii_letters + string.digits + string.punctuation) for x in range(100)]))\n"
   ]
  },
  {
   "cell_type": "code",
   "execution_count": 16,
   "metadata": {},
   "outputs": [
    {
     "name": "stdout",
     "output_type": "stream",
     "text": [
      "2018-10-06\n",
      "2018-10-06 15:25:22.427986\n",
      "2018-10-06 15:25:22.428046\n",
      "2\n",
      "2018-10-06 20:53:24.999000+05:30\n"
     ]
    }
   ],
   "source": [
    "print(date.today())\n",
    "print(datetime.today())\n",
    "print(datetime.utcnow())\n",
    "print(date.isoweekday(date.today() + timedelta(3)))\n",
    "print(parser.parse('2018-10-06T20:53:24.999+05:30'))"
   ]
  },
  {
   "cell_type": "code",
   "execution_count": 18,
   "metadata": {},
   "outputs": [
    {
     "name": "stdout",
     "output_type": "stream",
     "text": [
      "<class 'dict'> <class 'str'>\n",
      "{\"name\": \"Steve\", \"age\": 25, \"salary\": 12000, \"addresses\": {\"primary\": \"White House\", \"secondary\": \"Trump Towers\"}}\n"
     ]
    }
   ],
   "source": [
    "# print(datetime.date.today())\n",
    "# print(datetime.date.today() - datetime.timedelta(1))\n",
    "# print(parser.parse('2018-08-05'))\n",
    "emp = {'name': 'Steve', 'age': 25, 'salary': 12000,\n",
    "       'addresses': {'primary': \"White House\",\n",
    "                     'secondary': '''Trump Towers'''}\n",
    "       }\n",
    "jemp = json.dumps(emp)\n",
    "print(type(emp), type(jemp))\n",
    "print(jemp)\n",
    "\n",
    "# [] () . + {2,3} ? * "
   ]
  },
  {
   "cell_type": "code",
   "execution_count": 19,
   "metadata": {},
   "outputs": [
    {
     "name": "stdout",
     "output_type": "stream",
     "text": [
      "{'name': 'Steve', 'age': 25, 'salary': 12000, 'addresses': {'primary': 'White House', 'secondary': 'Trump Towers'}}\n",
      "<class 'str'> <class 'dict'>\n"
     ]
    }
   ],
   "source": [
    "# print('-----------------------------------')\n",
    "jstr = '{\"name\": \"Steve\", \"age\": 25, \"salary\": 12000, \"addresses\": {\"primary\": \"White House\", \"secondary\": \"Trump Towers\"}}'\n",
    "jdict = json.loads(jstr)\n",
    "print(jdict)\n",
    "print(type(jstr), type(jdict))\n"
   ]
  },
  {
   "cell_type": "code",
   "execution_count": 28,
   "metadata": {
    "collapsed": true
   },
   "outputs": [],
   "source": [
    "import re"
   ]
  },
  {
   "cell_type": "code",
   "execution_count": 32,
   "metadata": {},
   "outputs": [
    {
     "data": {
      "text/plain": [
       "['ful']"
      ]
     },
     "execution_count": 32,
     "metadata": {},
     "output_type": "execute_result"
    }
   ],
   "source": [
    "s1 = 'Python is wonderful'\n",
    "m1 = re.findall('ful', s1, re.IGNORECASE)\n",
    "m1"
   ]
  },
  {
   "cell_type": "code",
   "execution_count": null,
   "metadata": {
    "collapsed": true
   },
   "outputs": [],
   "source": []
  }
 ],
 "metadata": {
  "kernelspec": {
   "display_name": "Python 3",
   "language": "python",
   "name": "python3"
  },
  "language_info": {
   "codemirror_mode": {
    "name": "ipython",
    "version": 3
   },
   "file_extension": ".py",
   "mimetype": "text/x-python",
   "name": "python",
   "nbconvert_exporter": "python",
   "pygments_lexer": "ipython3",
   "version": "3.6.3"
  }
 },
 "nbformat": 4,
 "nbformat_minor": 2
}
